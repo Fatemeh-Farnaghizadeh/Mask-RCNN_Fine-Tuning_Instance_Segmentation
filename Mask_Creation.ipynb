{
 "cells": [
  {
   "cell_type": "code",
   "execution_count": 25,
   "metadata": {},
   "outputs": [],
   "source": [
    "import cv2\n",
    "import numpy as np\n",
    "import json\n",
    "import os\n",
    "\n",
    "# Load JSON data from the file\n",
    "with open(r'.\\data\\NDD20\\BELOW_LABELS.json', 'r') as json_file:\n",
    "    json_data = json.load(json_file)\n",
    "\n",
    "# Process each image in the JSON data\n",
    "for image_name, image_data in json_data.items():\n",
    "    if \"regions\" in image_data:\n",
    "        dolphin_regions = [region for region in image_data[\"regions\"] if region[\"region_attributes\"][\"object\"] == \"dolphin\"]\n",
    "\n",
    "        # Load the image corresponding to the JSON entry\n",
    "        image_filename = os.path.splitext(image_data[\"filename\"])[0]\n",
    "\n",
    "        image = cv2.imread(os.path.join(r\".\\data\\NDD20\\BELOW\", image_filename + '.jpg'))  # Assuming image_name contains the path to the image\n",
    "\n",
    "        if dolphin_regions:\n",
    "            # Initialize a mask with zeros\n",
    "            mask = np.zeros(image.shape[:2], dtype=np.uint8)\n",
    "\n",
    "            # Iterate through the polygon points and fill the mask with unique values for each region\n",
    "            for idx, region in enumerate(dolphin_regions):\n",
    "                points_x = region['shape_attributes']['all_points_x']\n",
    "                points_y = region['shape_attributes']['all_points_y']\n",
    "                points = [(x, y) for x, y in zip(points_x, points_y)]\n",
    "\n",
    "                #(n, 2)\n",
    "                points = np.array(points, np.int32)\n",
    "\n",
    "                #(n, 1, 2)\n",
    "                points = points.reshape((-1, 1, 2))\n",
    "\n",
    "                # Assign a unique value (e.g., idx + 1) to each region\n",
    "                mask = cv2.fillPoly(mask, [points], idx + 1)\n",
    "\n",
    "            # Save the mask to a file or use it as needed\n",
    "            output_file = os.path.join(r\".\\data\\NDD20\\BELOW_MASKS\", image_filename + '_mask.png')\n",
    "            cv2.imwrite(output_file, mask)"
   ]
  },
  {
   "cell_type": "code",
   "execution_count": 29,
   "metadata": {},
   "outputs": [
    {
     "data": {
      "image/png": "[encoded data removed]",
      "text/plain": [
       "<Figure size 640x480 with 1 Axes>"
      ]
     },
     "metadata": {},
     "output_type": "display_data"
    }
   ],
   "source": [
    "import matplotlib.pyplot as plt\n",
    "mask = cv2.imread(R\".\\data\\NDD20\\BELOW_MASKS\\2_mask.png\", cv2.IMREAD_GRAYSCALE)\n",
    "if mask is not None:\n",
    "    # Display the grayscale mask using Matplotlib\n",
    "    plt.imshow(mask, cmap='gray')\n",
    "    plt.title('Grayscale Mask')\n",
    "    plt.axis('off')  # Hide the axis\n",
    "    plt.show()\n",
    "else:\n",
    "    print(\"Failed to load the mask image.\")"
   ]
  },
  {
   "cell_type": "code",
   "execution_count": 28,
   "metadata": {},
   "outputs": [
    {
     "data": {
      "text/plain": [
       "array([0, 1], dtype=uint8)"
      ]
     },
     "execution_count": 28,
     "metadata": {},
     "output_type": "execute_result"
    }
   ],
   "source": [
    "unique_pixel_values = np.unique(mask)\n",
    "unique_pixel_values"
   ]
  }
 ],
 "metadata": {
  "kernelspec": {
   "display_name": "Mask-RCNN-Venv",
   "language": "python",
   "name": "mask-rcnn-venv"
  },
  "language_info": {
   "codemirror_mode": {
    "name": "ipython",
    "version": 3
   },
   "file_extension": ".py",
   "mimetype": "text/x-python",
   "name": "python",
   "nbconvert_exporter": "python",
   "pygments_lexer": "ipython3",
   "version": "3.10.11"
  },
  "orig_nbformat": 4
 },
 "nbformat": 4,
 "nbformat_minor": 2
}
